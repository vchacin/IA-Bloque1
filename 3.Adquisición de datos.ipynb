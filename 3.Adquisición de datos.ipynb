{
 "cells": [
  {
   "cell_type": "markdown",
   "metadata": {},
   "source": [
    "# Adquisición de datos con el conjunto de datos Fashion MNIST\n",
    "\n",
    "En este cuaderno, analizaremos algunos métodos para obtener el conjunto de datos Fashion MNIST. Al igual que en el cuaderno anterior, pasaremos por el proceso de obtención de los datos que necesitamos. "
   ]
  },
  {
   "cell_type": "markdown",
   "metadata": {},
   "source": [
    "Podemos encontrar el conjunto de datos Fashion MNIST de múltiples formas en línea, pero pasaremos por un procedimiento de código simple para facilitarnos el proceso. Escribiremos código para obtener los datos por nosotros.\n",
    "\n",
    "Para obtener más referencias a los datos, consulte https://github.com/zalandoresearch/fashion-mnist.\n",
    "\n",
    "Para que el script funcione, asegúrese de tener la biblioteca os, wget, pandas y matplotlib instalada en su entorno virtual de Python.\n",
    "\n",
    "## 1.1 Importar datos a través de pandas"
   ]
  },
  {
   "cell_type": "code",
   "execution_count": 2,
   "metadata": {
    "scrolled": true
   },
   "outputs": [],
   "source": [
    "import pandas as pd # Pandas for data manipulation\n",
    "import numpy as np # numpy for data manipulation\n",
    "import matplotlib.pyplot as plt # matplotlib for plotting\n",
    "from sklearn.model_selection import train_test_split"
   ]
  },
  {
   "cell_type": "markdown",
   "metadata": {},
   "source": [
    "¿Pudo importar estas bibliotecas con éxito? Si no, pida ayuda, pero si lo logró, ¡continuemos!\n",
    "\n",
    "Ahora intentaremos obtener los datos para el conjunto de datos de moda MNIST. Para mayor comodidad, ya hemos colocado los datos en una carpeta llamada FMNIST. Intenta mirar en su interior, ¿qué ves? ¿Por qué ve 2 archivos?"
   ]
  },
  {
   "cell_type": "code",
   "execution_count": 2,
   "metadata": {},
   "outputs": [],
   "source": [
    "# Los 2 archivos existen porque los datos se han dividido en datos de entrenamiento y datos de prueba para nuestra conveniencia."
   ]
  },
  {
   "cell_type": "markdown",
   "metadata": {},
   "source": [
    "El conjunto de datos Fashion MNIST es un archivo csv. Ahora, abra el conjunto de datos usando la función pd.read_csv () y asígnelo a las variables 'raw_data_train' y 'raw_data_test'. Luego, imprima las primeras 5 filas del marco de datos para ver el atributo de datos. ¿Que notó?"
   ]
  },
  {
   "cell_type": "code",
   "execution_count": 4,
   "metadata": {},
   "outputs": [],
   "source": [
    "raw_data_train = pd.read_csv(\"FMNIST/fashion-mnist_train.csv\")\n",
    "raw_data_test = pd.read_csv('FMNIST/fashion-mnist_test.csv')"
   ]
  },
  {
   "cell_type": "code",
   "execution_count": 5,
   "metadata": {},
   "outputs": [
    {
     "data": {
      "text/html": [
       "<div>\n",
       "<style scoped>\n",
       "    .dataframe tbody tr th:only-of-type {\n",
       "        vertical-align: middle;\n",
       "    }\n",
       "\n",
       "    .dataframe tbody tr th {\n",
       "        vertical-align: top;\n",
       "    }\n",
       "\n",
       "    .dataframe thead th {\n",
       "        text-align: right;\n",
       "    }\n",
       "</style>\n",
       "<table border=\"1\" class=\"dataframe\">\n",
       "  <thead>\n",
       "    <tr style=\"text-align: right;\">\n",
       "      <th></th>\n",
       "      <th>label</th>\n",
       "      <th>pixel1</th>\n",
       "      <th>pixel2</th>\n",
       "      <th>pixel3</th>\n",
       "      <th>pixel4</th>\n",
       "      <th>pixel5</th>\n",
       "      <th>pixel6</th>\n",
       "      <th>pixel7</th>\n",
       "      <th>pixel8</th>\n",
       "      <th>pixel9</th>\n",
       "      <th>...</th>\n",
       "      <th>pixel775</th>\n",
       "      <th>pixel776</th>\n",
       "      <th>pixel777</th>\n",
       "      <th>pixel778</th>\n",
       "      <th>pixel779</th>\n",
       "      <th>pixel780</th>\n",
       "      <th>pixel781</th>\n",
       "      <th>pixel782</th>\n",
       "      <th>pixel783</th>\n",
       "      <th>pixel784</th>\n",
       "    </tr>\n",
       "  </thead>\n",
       "  <tbody>\n",
       "    <tr>\n",
       "      <th>0</th>\n",
       "      <td>2</td>\n",
       "      <td>0</td>\n",
       "      <td>0</td>\n",
       "      <td>0</td>\n",
       "      <td>0</td>\n",
       "      <td>0</td>\n",
       "      <td>0</td>\n",
       "      <td>0</td>\n",
       "      <td>0</td>\n",
       "      <td>0</td>\n",
       "      <td>...</td>\n",
       "      <td>0</td>\n",
       "      <td>0</td>\n",
       "      <td>0</td>\n",
       "      <td>0</td>\n",
       "      <td>0</td>\n",
       "      <td>0</td>\n",
       "      <td>0</td>\n",
       "      <td>0</td>\n",
       "      <td>0</td>\n",
       "      <td>0</td>\n",
       "    </tr>\n",
       "    <tr>\n",
       "      <th>1</th>\n",
       "      <td>9</td>\n",
       "      <td>0</td>\n",
       "      <td>0</td>\n",
       "      <td>0</td>\n",
       "      <td>0</td>\n",
       "      <td>0</td>\n",
       "      <td>0</td>\n",
       "      <td>0</td>\n",
       "      <td>0</td>\n",
       "      <td>0</td>\n",
       "      <td>...</td>\n",
       "      <td>0</td>\n",
       "      <td>0</td>\n",
       "      <td>0</td>\n",
       "      <td>0</td>\n",
       "      <td>0</td>\n",
       "      <td>0</td>\n",
       "      <td>0</td>\n",
       "      <td>0</td>\n",
       "      <td>0</td>\n",
       "      <td>0</td>\n",
       "    </tr>\n",
       "    <tr>\n",
       "      <th>2</th>\n",
       "      <td>6</td>\n",
       "      <td>0</td>\n",
       "      <td>0</td>\n",
       "      <td>0</td>\n",
       "      <td>0</td>\n",
       "      <td>0</td>\n",
       "      <td>0</td>\n",
       "      <td>0</td>\n",
       "      <td>5</td>\n",
       "      <td>0</td>\n",
       "      <td>...</td>\n",
       "      <td>0</td>\n",
       "      <td>0</td>\n",
       "      <td>0</td>\n",
       "      <td>30</td>\n",
       "      <td>43</td>\n",
       "      <td>0</td>\n",
       "      <td>0</td>\n",
       "      <td>0</td>\n",
       "      <td>0</td>\n",
       "      <td>0</td>\n",
       "    </tr>\n",
       "    <tr>\n",
       "      <th>3</th>\n",
       "      <td>0</td>\n",
       "      <td>0</td>\n",
       "      <td>0</td>\n",
       "      <td>0</td>\n",
       "      <td>1</td>\n",
       "      <td>2</td>\n",
       "      <td>0</td>\n",
       "      <td>0</td>\n",
       "      <td>0</td>\n",
       "      <td>0</td>\n",
       "      <td>...</td>\n",
       "      <td>3</td>\n",
       "      <td>0</td>\n",
       "      <td>0</td>\n",
       "      <td>0</td>\n",
       "      <td>0</td>\n",
       "      <td>1</td>\n",
       "      <td>0</td>\n",
       "      <td>0</td>\n",
       "      <td>0</td>\n",
       "      <td>0</td>\n",
       "    </tr>\n",
       "    <tr>\n",
       "      <th>4</th>\n",
       "      <td>3</td>\n",
       "      <td>0</td>\n",
       "      <td>0</td>\n",
       "      <td>0</td>\n",
       "      <td>0</td>\n",
       "      <td>0</td>\n",
       "      <td>0</td>\n",
       "      <td>0</td>\n",
       "      <td>0</td>\n",
       "      <td>0</td>\n",
       "      <td>...</td>\n",
       "      <td>0</td>\n",
       "      <td>0</td>\n",
       "      <td>0</td>\n",
       "      <td>0</td>\n",
       "      <td>0</td>\n",
       "      <td>0</td>\n",
       "      <td>0</td>\n",
       "      <td>0</td>\n",
       "      <td>0</td>\n",
       "      <td>0</td>\n",
       "    </tr>\n",
       "  </tbody>\n",
       "</table>\n",
       "<p>5 rows × 785 columns</p>\n",
       "</div>"
      ],
      "text/plain": [
       "   label  pixel1  pixel2  pixel3  pixel4  pixel5  pixel6  pixel7  pixel8  \\\n",
       "0      2       0       0       0       0       0       0       0       0   \n",
       "1      9       0       0       0       0       0       0       0       0   \n",
       "2      6       0       0       0       0       0       0       0       5   \n",
       "3      0       0       0       0       1       2       0       0       0   \n",
       "4      3       0       0       0       0       0       0       0       0   \n",
       "\n",
       "   pixel9  ...  pixel775  pixel776  pixel777  pixel778  pixel779  pixel780  \\\n",
       "0       0  ...         0         0         0         0         0         0   \n",
       "1       0  ...         0         0         0         0         0         0   \n",
       "2       0  ...         0         0         0        30        43         0   \n",
       "3       0  ...         3         0         0         0         0         1   \n",
       "4       0  ...         0         0         0         0         0         0   \n",
       "\n",
       "   pixel781  pixel782  pixel783  pixel784  \n",
       "0         0         0         0         0  \n",
       "1         0         0         0         0  \n",
       "2         0         0         0         0  \n",
       "3         0         0         0         0  \n",
       "4         0         0         0         0  \n",
       "\n",
       "[5 rows x 785 columns]"
      ]
     },
     "execution_count": 5,
     "metadata": {},
     "output_type": "execute_result"
    }
   ],
   "source": [
    "raw_data_train.head()"
   ]
  },
  {
   "cell_type": "markdown",
   "metadata": {},
   "source": [
    "Ahora use pandas para obtener información básica (número de filas y columnas, tipo de datos, número de valores perdidos y estadísticas básicas) sobre el conjunto de datos. Utilice .info () y .describe () para obtener información básica sobre el conjunto de datos."
   ]
  },
  {
   "cell_type": "code",
   "execution_count": 22,
   "metadata": {},
   "outputs": [
    {
     "name": "stdout",
     "output_type": "stream",
     "text": [
      "<class 'pandas.core.frame.DataFrame'>\n",
      "RangeIndex: 60000 entries, 0 to 59999\n",
      "Columns: 785 entries, label to pixel784\n",
      "dtypes: int64(785)\n",
      "memory usage: 359.3 MB\n"
     ]
    }
   ],
   "source": [
    "# Respuesta\n",
    "df = raw_data_train.info ()\n"
   ]
  },
  {
   "cell_type": "markdown",
   "metadata": {},
   "source": [
    "Ahora que ha terminado de importar los datos, podemos pasar a una tarea simple de encontrar los tipos de datos dentro de este marco de datos. ¿Puede encontrar los tipos de datos únicos dentro de este marco de datos e imprimirlos?"
   ]
  },
  {
   "cell_type": "code",
   "execution_count": 25,
   "metadata": {},
   "outputs": [
    {
     "data": {
      "text/plain": [
       "array([  0,   5,   3,   2,   1,  23,  30,  16,  12,   7,  65,  10,  17,\n",
       "        22,  62,  85,  29,  27,   4,  37,  82, 175,  60,  20,  24,  13,\n",
       "        15, 121,  28, 106,  51,  79,  18, 116, 136,  86,  31,  97,   6,\n",
       "        46, 122,  11,  96, 100,  57,  34, 109,  53,  66,  59, 185,  14,\n",
       "        54, 129,  75, 187, 166,   8,  21, 184, 157,  42,  41, 140, 160,\n",
       "        19,  39, 126,  58,  40,  33,  83,  50, 134, 159,  63, 117,  98,\n",
       "       147,  56,  43, 145, 101,  48,  32, 107,  72,   9,  26,  89,  47,\n",
       "        91, 216, 103,  95,  45,  70, 178,  88,  80,  71,  44, 135,  35,\n",
       "        87, 170,  38,  77,  55, 158,  25,  67, 191, 127, 194,  69, 137,\n",
       "       102, 218, 153,  49, 162,  36, 120, 161,  64,  52, 182, 133, 124,\n",
       "       125, 210, 188,  76, 141,  92, 209, 179, 132, 123, 177,  68, 114,\n",
       "       104, 105, 115, 110,  73, 192,  84, 111, 171,  81, 148,  74, 108,\n",
       "        61, 186, 176, 173, 154,  78, 150, 131,  93, 165, 203, 168, 206,\n",
       "       197,  94, 130, 138,  99,  90, 215, 211, 174, 190, 112, 202, 255,\n",
       "       164, 144, 152, 219, 119, 142, 167, 181, 143, 221, 213, 189, 149,\n",
       "       199, 225, 139, 113, 156, 151, 193, 128, 155, 163, 118, 200, 198,\n",
       "       172, 201], dtype=int64)"
      ]
     },
     "execution_count": 25,
     "metadata": {},
     "output_type": "execute_result"
    }
   ],
   "source": [
    "# Respuesta\n",
    "raw_data_train[\"pixel8\"].unique ()\n",
    "\n"
   ]
  },
  {
   "cell_type": "markdown",
   "metadata": {},
   "source": [
    "Felicitaciones por completar el cuaderno de adquisición de datos Fashion MNIST. Si ha terminado antes, tómese un tiempo para jugar con el conjunto de datos y aprender más sobre él.\n",
    "\n",
    "1. ¿Existen otras formas de importar datos, como datos de imágenes, de ser así, cómo?\n",
    "2. Nuestras imágenes en el conjunto de datos de Fahsion MNIST están en escala de grises. ¿Cómo cambiarían los datarames si el conjunto de datos estuviera compuesto por imágenes en color?"
   ]
  }
 ],
 "metadata": {
  "kernelspec": {
   "display_name": "Python 3",
   "language": "python",
   "name": "python3"
  },
  "language_info": {
   "codemirror_mode": {
    "name": "ipython",
    "version": 3
   },
   "file_extension": ".py",
   "mimetype": "text/x-python",
   "name": "python",
   "nbconvert_exporter": "python",
   "pygments_lexer": "ipython3",
   "version": "3.8.5"
  }
 },
 "nbformat": 4,
 "nbformat_minor": 4
}
