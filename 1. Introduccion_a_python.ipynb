{
 "cells": [
  {
   "cell_type": "markdown",
   "metadata": {},
   "source": [
    "# Introduction to Python"
   ]
  },
  {
   "cell_type": "markdown",
   "metadata": {},
   "source": [
    "Este notebook contiene algunos ejercicios de programación que lo equiparán con las habilidades de programación que necesita para los próximos talleres. No tenga miedo de cometer errores. Cometer errores durante la codificación es perfectamente normal. Es más importante que aprenda a corregir esos errores. Si está trabado en alguno de los ejercicios, comience primero por buscar soluciones similares en internet, seguro encontrará la respuesta. Si no puede hallarla, pida ayuda a sus compañeros, o al profesor en clase."
   ]
  },
  {
   "cell_type": "markdown",
   "metadata": {},
   "source": [
    "Las listas son variables que le permiten almacenar más de un valor.\n",
    "\n",
    "Antes de comenzar a codificar, aquí hay algunas propiedades importantes sobre las listas:\n",
    "1. Las listas se definen con corchetes []\n",
    "2. Las listas pueden contener cadenas, números enteros, flotantes, booleanos o cualquier combinación de estos.\n",
    "3. Los elementos de una lista están separados por comas,\n",
    "\n",
    "Con las 3 propiedades en mente, ¡comencemos a codificar!\n",
    "Mire el código a continuación e intente ejecutarlo."
   ]
  },
  {
   "cell_type": "code",
   "execution_count": 3,
   "metadata": {},
   "outputs": [
    {
     "name": "stdout",
     "output_type": "stream",
     "text": [
      "Una lista vacía:  []\n"
     ]
    }
   ],
   "source": [
    "listaDeEjemplo = []\n",
    "print (\"Una lista vacía: \",[])"
   ]
  },
  {
   "cell_type": "code",
   "execution_count": 4,
   "metadata": {},
   "outputs": [
    {
     "name": "stdout",
     "output_type": "stream",
     "text": [
      "Roberto debería aparecer en la lista: ['Roberto']\n"
     ]
    }
   ],
   "source": [
    "#.append() es una función que le permite agregar valores a una lista\n",
    "listaDeEjemplo.append(\"Roberto\")\n",
    "print (\"Roberto debería aparecer en la lista:\", listaDeEjemplo)"
   ]
  },
  {
   "cell_type": "code",
   "execution_count": 5,
   "metadata": {},
   "outputs": [
    {
     "name": "stdout",
     "output_type": "stream",
     "text": [
      "La lista puede contener diferentes tipos de datos y los elementos de una lista están separados por comas:  ['Roberto', False, 9, 10.5]\n"
     ]
    }
   ],
   "source": [
    "# La lista puede contener cadenas, enteros, flotantes, booleanos o cualquier combinación de ellos\n",
    "\n",
    "listaDeEjemplo.append(False)\n",
    "listaDeEjemplo.append(9)\n",
    "listaDeEjemplo.append(10.5)\n",
    "print (\"La lista puede contener diferentes tipos de datos y los elementos de una lista están separados por comas: \", listaDeEjemplo)"
   ]
  },
  {
   "cell_type": "markdown",
   "metadata": {},
   "source": [
    "¡Pregunta de práctica!\n",
    "1. Asigne los siguientes números a una lista definida como \"X1\". Los números son 4, 1, 5, 7.\n",
    "2. Ahora, cambie el tercer número de 5 a 10. Imprima X1 para confirmar que ha cambiado el número.\n",
    "3. Sume un valor de 2 a todos los elementos de la lista en la celda siguiente. Imprima X1 nuevamente para confirmar la adición. "
   ]
  },
  {
   "cell_type": "code",
   "execution_count": 18,
   "metadata": {},
   "outputs": [
    {
     "name": "stdout",
     "output_type": "stream",
     "text": [
      "[4, 1, 5, 7]\n",
      "[4, 1, 10, 7]\n",
      "[6, 3, 12, 9]\n"
     ]
    }
   ],
   "source": [
    "# HACER: Asignar números 4,1,5,7 a la lista X1.\n",
    "X1 = [4,1,5,7]\n",
    "print(X1)\n",
    "\n",
    "# HACER: Cambiar el tercer número (5) a 10. \n",
    "X1[2] = 10\n",
    "print(X1)\n",
    "\n",
    "# TODO: sumar 2 a todos los ítems de la lista (pista: usar un ciclo \"for\". Está permitido buscar en internet cómo hacerlo!)\n",
    "for i in range (0,4):\n",
    "    X1[i]=X1[i]+2\n",
    "\n",
    "print(X1)"
   ]
  },
  {
   "cell_type": "markdown",
   "metadata": {},
   "source": [
    "Resultados esperados:\n",
    "1. [4, 1, 5, 7]\n",
    "2. [4, 1, 10, 7]\n",
    "3. [6, 3, 12, 9]"
   ]
  },
  {
   "cell_type": "markdown",
   "metadata": {},
   "source": [
    "¡Muy bien!\n",
    "\n",
    "Ahora intentemos aplicar estadísticas básicas en Python.\n",
    "\n",
    "Calcular la media de los datos proporcionados. https://es.wikipedia.org/wiki/Media_(matem%C3%A1ticas)\n",
    "\n",
    "Encontrar la mediana de los datos proporcionados.\n",
    "https://es.wikipedia.org/wiki/Mediana_(estad%C3%ADstica)\n",
    "\n",
    "Encontrar la moda de los datos proporcionados.\n",
    "https://es.wikipedia.org/wiki/Moda_(estad%C3%ADstica)#:~:text=En%20la%20estad%C3%ADstica%2C%20la%20moda,la%20que%20encontramos%20tres%20modas.\n"
   ]
  },
  {
   "cell_type": "code",
   "execution_count": 23,
   "metadata": {},
   "outputs": [
    {
     "name": "stdout",
     "output_type": "stream",
     "text": [
      "14\n",
      "93\n",
      "6.642857142857143\n"
     ]
    }
   ],
   "source": [
    "# Aquí está el conjunto de datos para las preguntas de desafío:\n",
    "dataset = [2, 1, 1, 4, 5, 8, 12, 4, 3, 8, 21, 1, 18, 5]\n",
    "\n",
    "# Hacer: Calcular la media de los datos proporcionados.\n",
    "# Paso 1: averigüe la cantidad de elementos de la lista\n",
    "\n",
    "numero_de_items = len(dataset)\n",
    "\n",
    "print(numero_de_items)\n",
    "\n",
    "# Paso 2: calcule la suma de los elementos de la lista. Intente hacer esto con la función loop.\n",
    "suma_de_items = 0\n",
    "\n",
    "for i in range (0,numero_de_items):\n",
    "    suma_de_items += dataset[i]\n",
    "\n",
    "print(suma_de_items)\n",
    "\n",
    "# Paso 3: Calcule la media\n",
    "media = suma_de_items / numero_de_items\n",
    "print(media)\n"
   ]
  },
  {
   "cell_type": "code",
   "execution_count": 27,
   "metadata": {},
   "outputs": [
    {
     "name": "stdout",
     "output_type": "stream",
     "text": [
      "[1, 1, 1, 2, 3, 4, 4, 5, 5, 8, 8, 12, 18, 21]\n",
      "7\n",
      "4\n"
     ]
    }
   ],
   "source": [
    "# Hacer: Encuentre la mediana de los datos proporcionados. (SUGERENCIA: reorganice los elementos de la lista)\n",
    "# Paso 1: reorganice los elementos de la lista en orden ascendente, es decir (1,1,1,2,3,4,4,5,5,8,8,12,18,21)\n",
    "\n",
    "dataset.sort()\n",
    "print(dataset)\n",
    "\n",
    "# Paso 2: Encuentre la posición del elemento que se encuentra en el medio de la lista\n",
    "indice_medio = int(numero_de_items / 2)\n",
    "\n",
    "print (indice_medio)\n",
    "\n",
    "# Step 3: Encuentre la mediana\n",
    "mediana = dataset[indice_medio-1]\n",
    "\n",
    "print (mediana)"
   ]
  },
  {
   "cell_type": "code",
   "execution_count": 29,
   "metadata": {},
   "outputs": [
    {
     "name": "stdout",
     "output_type": "stream",
     "text": [
      "1\n"
     ]
    }
   ],
   "source": [
    "# Hacer: Encuentre la moda de los datos proporcionados (SUGERENCIA: use max())\n",
    "moda = max(dataset, key = dataset.count)\n",
    "\n",
    "print (moda)"
   ]
  },
  {
   "cell_type": "code",
   "execution_count": null,
   "metadata": {},
   "outputs": [],
   "source": []
  }
 ],
 "metadata": {
  "kernelspec": {
   "display_name": "Python 3",
   "language": "python",
   "name": "python3"
  },
  "language_info": {
   "codemirror_mode": {
    "name": "ipython",
    "version": 3
   },
   "file_extension": ".py",
   "mimetype": "text/x-python",
   "name": "python",
   "nbconvert_exporter": "python",
   "pygments_lexer": "ipython3",
   "version": "3.8.5"
  }
 },
 "nbformat": 4,
 "nbformat_minor": 4
}
