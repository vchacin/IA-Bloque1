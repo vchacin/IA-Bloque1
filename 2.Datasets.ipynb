{
 "cells": [
  {
   "cell_type": "markdown",
   "metadata": {
    "colab_type": "text",
    "id": "yv8OxUW-aZuw"
   },
   "source": [
    "# Importación y procesamiento de datos"
   ]
  },
  {
   "cell_type": "markdown",
   "metadata": {
    "colab_type": "text",
    "id": "X1RZkp7AaZuy"
   },
   "source": [
    "Los conjuntos de datos son esenciales para cualquier proyecto de ciencia de datos. Cuantos más datos tenga, más fácil será identificar las relaciones entre características. Sin embargo, también es esencial que la computadora comprenda los conjuntos de datos antes de poder realizar cualquier análisis de datos. Por lo tanto, el objetivo principal de este ejercicio es equiparlo con las habilidades necesarias para importar y procesar su conjunto de datos antes de realizar cualquier análisis de datos o aprendizaje automático."
   ]
  },
  {
   "cell_type": "markdown",
   "metadata": {
    "colab_type": "text",
    "id": "qo9K9fTeaZuz"
   },
   "source": [
    "## 1. Importación de datos"
   ]
  },
  {
   "cell_type": "markdown",
   "metadata": {
    "colab_type": "text",
    "id": "JLizB8V8aZu0"
   },
   "source": [
    "\n",
    "Hay muchos sitios web de los que puede obtener datos de forma gratuita. Algunos ejemplos de estos incluyen Kaggle (https://www.kaggle.com/) y la Universidad de California, Irvine (https://archive.ics.uci.edu/ml/datasets.html/) (UCI). Podemos descargar manualmente los conjuntos de datos y colocarlos en nuevas carpetas en nuestras computadoras. Sin embargo, puede llevar mucho tiempo hacerlo. Por lo tanto, aquí ya tenemos un conjunto de datos ya descargado en la carpeta Magic_data.\n",
    "\n",
    "Por el otro lado, hay un script llamado magic.py que se encarga de levantar esos datos y graficarlos. ¡Pruébelo!\n",
    "Para que el script funcione, asegúrese de tener la biblioteca os, wget, pandas y matplotlib instalada en su entorno virtual de Python. De no poseerlos, deberá instalarlos desde la linea de comandos mediante \"pip3 install\" + el nombre de la biblioteca a instalar.\n"
   ]
  },
  {
   "cell_type": "code",
   "execution_count": 2,
   "metadata": {
    "scrolled": true
   },
   "outputs": [
    {
     "name": "stdout",
     "output_type": "stream",
     "text": [
      "Requirement already satisfied: pandas in c:\\users\\victoria\\appdata\\local\\programs\\python\\python38\\lib\\site-packages (1.2.3)\n",
      "Requirement already satisfied: numpy>=1.16.5 in c:\\users\\victoria\\appdata\\local\\programs\\python\\python38\\lib\\site-packages (from pandas) (1.20.1)\n",
      "Requirement already satisfied: python-dateutil>=2.7.3 in c:\\users\\victoria\\appdata\\local\\programs\\python\\python38\\lib\\site-packages (from pandas) (2.8.1)\n",
      "Requirement already satisfied: pytz>=2017.3 in c:\\users\\victoria\\appdata\\local\\programs\\python\\python38\\lib\\site-packages (from pandas) (2021.1)\n",
      "Requirement already satisfied: six>=1.5 in c:\\users\\victoria\\appdata\\local\\programs\\python\\python38\\lib\\site-packages (from python-dateutil>=2.7.3->pandas) (1.15.0)\n"
     ]
    }
   ],
   "source": []
  },
  {
   "cell_type": "code",
   "execution_count": 3,
   "metadata": {
    "colab": {},
    "colab_type": "code",
    "id": "48iAfPyqaZu4",
    "outputId": "c1af2433-8bf9-4ee5-dacd-df579e7e14bd",
    "scrolled": true
   },
   "outputs": [
    {
     "name": "stdout",
     "output_type": "stream",
     "text": [
      "Current working directory: C:\\Users\\Victoria\\Desktop\\To do\\AI - Laboratorio\\Bloque 1\n",
      "Downloading file..........\n",
      "\n",
      "\n",
      "File has been downloaded!\n",
      "Performing super difficult data analysis..........\n"
     ]
    },
    {
     "data": {
      "image/png": "[encoded data removed]",
      "text/plain": [
       "<Figure size 432x288 with 1 Axes>"
      ]
     },
     "metadata": {
      "needs_background": "light"
     },
     "output_type": "display_data"
    }
   ],
   "source": [
    "%run \"magic.py\""
   ]
  },
  {
   "cell_type": "markdown",
   "metadata": {
    "colab_type": "text",
    "id": "fkxfjF4paZu9"
   },
   "source": [
    "Hooray! You have successfully downloaded the data and plotted a graph without any manual intervention. Without opening the magic.py file, are you able to deduce where the data was downloaded to? The printed statements above will provide some hint!\n",
    "\n",
    "¡Hurra! Ha levantado correctamente los datos y ha trazado un gráfico sin ninguna intervención manual."
   ]
  },
  {
   "cell_type": "markdown",
   "metadata": {
    "colab_type": "text",
    "id": "azsj1jXnaZvT"
   },
   "source": [
    "\n",
    "Ahora accederemos a nuestros datos y aprenderemos algunas de sus características. Para hacer esto, exploremos una biblioteca de Python llamada \"pandas\"."
   ]
  },
  {
   "cell_type": "markdown",
   "metadata": {
    "colab_type": "text",
    "id": "bPTqn9m5aZvU"
   },
   "source": [
    "## 1.2 Introducción a Pandas"
   ]
  },
  {
   "cell_type": "markdown",
   "metadata": {
    "colab_type": "text",
    "id": "SQgW_MizaZvV"
   },
   "source": [
    "Pandas es una herramienta poderosa para importar conjuntos de datos. Organiza los datos en un [dataframe] fácilmente procesado (https://www.datacamp.com/community/tutorials/pandas-tutorial-dataframe-python) que permite un análisis estadístico sencillo.\n",
    "\n",
    "Lea este artículo (https://towardsdatascience.com/a-quick-introduction-to-the-pandas-python-library-f1b678f34673) y mire este video (https://www.youtube.com/watch?v=dcqPhpY7tWk) para una introducción rápida a pandas: qué son, cuáles son algunas aplicaciones de pandas y cómo se puede usar.\n",
    "\n",
    "Preste especial atención a la parte sobre la importación y visualización de datos, ya que utilizaremos algunas de las funciones en nuestros ejercicios más adelante.\n",
    "\n",
    "Resuma lo que aprendió sobre los pandas en su hoja de trabajo.\n",
    "- ¿Cómo instalar y usar Pandas?\n",
    "- ¿Cuáles son los tipos comunes de archivos para los que se utiliza Pandas?\n",
    "- ¿Qué es un dataframes (marco de datos)?\n",
    "- ¿Cómo acceder a las filas y columnas en el marco de datos?\n",
    "- Nombrar y describir algunas funciones de Pandas de uso común."
   ]
  },
  {
   "cell_type": "markdown",
   "metadata": {
    "colab_type": "text",
    "id": "7xniCy-DaZvW"
   },
   "source": [
    "Aquí encontrará un breve resumen a las preguntas enunciadas:\n",
    "- conda install pandas or pip install pandas into the python virtual environment. Remember to import pandas in the notebook.\n",
    "- Pandas can be used for both CSV files and Excel spreadsheets.\n",
    "- Dataframes are 2D data structures that have rows and columns. Dataframes are similar to how data are presented in Excel spreadsheets.\n",
    "- Rows and columns can be accessed through their names or their numbers. For example, dataframe['petal_size'] can be used to access data within the column that is labelled as \"petal_size\". Alternatively, dataframe.iloc[1] accesses data within the second row of the dataframe.\n",
    "- dataframe.head(): Returns the top few rows of the dataframe\n",
    "- dataframe.shape: Returns the dimensions of the dataframe (number of rows and columns)\n",
    "- dataframe.fillna(): Fills missing values with given values\n",
    "- dataframe.describe(): Returns basic statistics of the dataframe\n",
    "- dataframe.info(): Returns the type of data within each column\n",
    "\n",
    "- conda install pandas o pip install pandas en el entorno virtual de Python. Recuerde importar pandas en el cuaderno.\n",
    "- Pandas se puede utilizar tanto para archivos CSV como para hojas de cálculo de Excel.\n",
    "- Los dataframes son estructuras de datos 2D que tienen filas y columnas. Los marcos de datos son similares a cómo se presentan los datos en las hojas de cálculo de Excel.\n",
    "- Se puede acceder a las filas y columnas a través de sus nombres o sus números. Por ejemplo, el marco de datos ['petal_size'] se puede utilizar para acceder a los datos dentro de la columna que está etiquetada como \"petal_size\". Alternativamente, dataframe.iloc [1] accede a datos dentro de la segunda fila del dataframe.\n",
    "- dataframe.head (): Devuelve las primeras filas del marco de datos\n",
    "- dataframe.shape: Devuelve las dimensiones del marco de datos (número de filas y columnas)\n",
    "- dataframe.fillna (): llena los valores faltantes con valores dados\n",
    "- dataframe.describe (): Devuelve estadísticas básicas del marco de datos\n",
    "- dataframe.info (): Devuelve el tipo de datos dentro de cada columna"
   ]
  },
  {
   "cell_type": "markdown",
   "metadata": {
    "colab_type": "text",
    "id": "uN8GdTnsaZvX"
   },
   "source": [
    "Ahora, usemos algunas funciones dentro de Pandas para ayudarnos a acceder a los datos. El primer paso es importar Pandas. Intente importar pandas como pd."
   ]
  },
  {
   "cell_type": "markdown",
   "metadata": {
    "colab_type": "text",
    "id": "ZYYgOLZ9aZvd"
   },
   "source": [
    "Después de importar Pandas, intentaremos leer en el conjunto de datos Iris Flower. Actualmente está guardado como un archivo de valores separados por comas (CSV). Tendremos que comprender más sobre los archivos CSV antes de poder acceder a los datos que contienen."
   ]
  },
  {
   "cell_type": "markdown",
   "metadata": {
    "colab_type": "text",
    "id": "7wyyOjwIaZvf"
   },
   "source": [
    "## 1.2.1 Archivos de valores separados por comas (CSV)"
   ]
  },
  {
   "cell_type": "markdown",
   "metadata": {
    "colab_type": "text",
    "id": "bpM7sENlaZvg"
   },
   "source": [
    "Los conjuntos de datos se almacenan principalmente en archivos CSV. Los archivos CSV contienen datos separados por comas u otros caracteres. Por ejemplo, un archivo CSV que contenga nombres de personas se puede almacenar como John, Mary, Harry, Luke. La coma entre los nombres le indicará a la computadora dónde separar un nombre del otro.\n",
    "\n",
    "Los archivos suelen tener una extensión .csv, pero hay archivos que no siguen esta extensión. Un ejemplo será el de los datos del iris.\n",
    "\n",
    "Consulte este artículo (https://www.howtogeek.com/348960/what-is-a-csv-file-and-how-do-i-open-it/) para obtener más información sobre los archivos csv: ¿Qué ¿son ellos? ¿Cómo acceder a ellos?"
   ]
  },
  {
   "cell_type": "markdown",
   "metadata": {
    "colab_type": "text",
    "id": "YNHvX4LBaZvr"
   },
   "source": [
    "## 1.2.2 Set de datos de Pokémon"
   ]
  },
  {
   "cell_type": "markdown",
   "metadata": {
    "colab_type": "text",
    "id": "mLOEDjs3aZvs"
   },
   "source": [
    "El conjunto de datos de Iris Flower es un archivo csv, aunque tiene la extensión .data. Ahora, abra el conjunto de datos usando la función pd.read_csv () y asígnelo a una variable df. Luego, imprima las primeras 5 filas del marco de datos para ver el atributo de datos. ¿Que notó?"
   ]
  },
  {
   "cell_type": "code",
   "execution_count": 4,
   "metadata": {
    "colab": {},
    "colab_type": "code",
    "id": "JUxizHumaZvt",
    "outputId": "8ccb832c-a01a-4141-f8aa-c2e65f9d98ca"
   },
   "outputs": [
    {
     "name": "stdout",
     "output_type": "stream",
     "text": [
      "            0  Type1   Type2  Power\n",
      "0   bulbasaur  Grass  Poison   64.0\n",
      "1     ivysaur  Grass  Poison   71.0\n",
      "2    venusaur  Grass  Poison   69.0\n",
      "3  charmander   Fire     NaN   58.0\n",
      "4  charmeleon   Fire     NaN   82.0\n"
     ]
    }
   ],
   "source": [
    "df = pd.read_csv(\"PokeIMG/pokemon.csv\")\n",
    "print(df.head())"
   ]
  },
  {
   "cell_type": "markdown",
   "metadata": {
    "colab_type": "text",
    "id": "wupjuXHtaZvz"
   },
   "source": [
    "¿Se dio cuenta de que al marco de datos le faltaban encabezados / nombres de columna? Esto sucede porque el archivo original no tiene nombres de encabezado / columna. Como tal, siempre es importante conocer más detalles sobre el archivo de datos antes de usarlo. El nombre del encabezado requerido es 'Nombre'."
   ]
  },
  {
   "cell_type": "markdown",
   "metadata": {
    "colab_type": "text",
    "id": "lyt1rLJvaZv-"
   },
   "source": [
    "Ahora, intentemos incluir los nombres en el marco de datos. Es necesario volver a leer los datos en el dataframe para especificar que faltan encabezados en los datos. Esto nos permitirá agregar los nombres en el marco de datos más tarde. Complete el espacio en blanco del encabezado que falta."
   ]
  },
  {
   "cell_type": "code",
   "execution_count": 73,
   "metadata": {
    "colab": {},
    "colab_type": "code",
    "id": "5QK2ge6xaZv_",
    "outputId": "9a1320a1-97b2-4bd9-f51f-2989f8d933d8"
   },
   "outputs": [
    {
     "name": "stdout",
     "output_type": "stream",
     "text": [
      "        Names  Type1   Type2  Power\n",
      "0   bulbasaur  Grass  Poison   64.0\n",
      "1     ivysaur  Grass  Poison   71.0\n",
      "2    venusaur  Grass  Poison   69.0\n",
      "3  charmander   Fire     NaN   58.0\n",
      "4  charmeleon   Fire     NaN   82.0\n"
     ]
    }
   ],
   "source": [
    "#Answer\n",
    "df = pd.read_csv(\"PokeIMG/pokemon.csv\")\n",
    "\n",
    "name = [\"Names\", \"Type1\", \"Type2\", \"Power\"]\n",
    "\n",
    "df.columns=name\n",
    "\n",
    "print(df.head())\n",
    "\n",
    "\n",
    "\n",
    "\n",
    "\n",
    "\n",
    "\n"
   ]
  },
  {
   "cell_type": "markdown",
   "metadata": {
    "colab_type": "text",
    "id": "RPLv342LaZwI"
   },
   "source": [
    "Con las etiquetas adecuadas, ahora puede usar pandas para obtener información básica (número de filas y columnas, tipo de datos, número de valores faltantes y estadísticas básicas) sobre el conjunto de datos. Utilice .info () y .describe () para obtener información básica sobre el dataset."
   ]
  },
  {
   "cell_type": "markdown",
   "metadata": {
    "colab_type": "text",
    "id": "fGS8QqI8aZwO"
   },
   "source": [
    "## Ha Adquirido la capacidad de descargar conjuntos de datos automáticamente e importarlos usando Pandas. Además, también ha aprendido a utilizar las funciones de Pandas para obtener información básica sobre el conjunto de datos!"
   ]
  }
 ],
 "metadata": {
  "colab": {
   "name": "(1) Obtaining_data.ipynb",
   "provenance": [],
   "version": "0.3.2"
  },
  "kernelspec": {
   "display_name": "Python 3",
   "language": "python",
   "name": "python3"
  },
  "language_info": {
   "codemirror_mode": {
    "name": "ipython",
    "version": 3
   },
   "file_extension": ".py",
   "mimetype": "text/x-python",
   "name": "python",
   "nbconvert_exporter": "python",
   "pygments_lexer": "ipython3",
   "version": "3.8.5"
  }
 },
 "nbformat": 4,
 "nbformat_minor": 4
}
