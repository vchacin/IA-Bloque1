{
 "cells": [
  {
   "cell_type": "markdown",
   "metadata": {},
   "source": [
    "# Preprocesamiento y visualización de datos con el dataset \"Fashion MNIST\"\n",
    "\n",
    "En este notebook repasaremos las tareas para preprocesar el conjunto de datos Fashion MNIST y visualizarlo. Al igual que en los notebooks anteriores, pasaremos por un proceso paso a paso para la preparación del conjunto de datos para el modelado.\n",
    "\n",
    "\n",
    "## Contexto\n",
    "\n",
    "¿Por qué necesitamos preprocesamiento de datos en primer lugar? Bueno, la respuesta es simple: Necesitamos asegurarnos de que los datos estén presentes con las cualidades que necesitamos de ellos para modelar. ¿Qué hemos visto hasta ahora?\n",
    "\n",
    "1. La visualización nos ayuda a comprender mejor los datos.\n",
    "2. Eliminar los datos erróneos nos permite pasar los datos para entrenamiento sin ningún problema.\n",
    "\n",
    "## Los archivos que necesita se encuentran en la carpeta FMNIST, dentro de la carpeta de laboratorios del bloque 1. Puede moverlos a esta carpeta para facilitar el ejercicio si lo desea.\n"
   ]
  },
  {
   "cell_type": "code",
   "execution_count": 4,
   "metadata": {},
   "outputs": [],
   "source": [
    "import pandas as pd\n",
    "import numpy as np\n",
    "import matplotlib.pyplot as plt\n",
    "from sklearn.model_selection import train_test_split\n",
    "\n",
    "raw_data_train = pd.read_csv(\"FMNIST/fashion-mnist_train.csv\")\n",
    "raw_data_test = pd.read_csv('FMNIST/fashion-mnist_test.csv')"
   ]
  },
  {
   "cell_type": "markdown",
   "metadata": {},
   "source": [
    "## 1. Visualización\n",
    "\n",
    "### Tarea 1\n",
    "Intentemos una tarea de ejemplo. Dado nuestro conjunto de datos, intente usar matplotlib para imprimir una imagen en escala de grises."
   ]
  },
  {
   "cell_type": "code",
   "execution_count": 3,
   "metadata": {},
   "outputs": [
    {
     "data": {
      "image/png": "[encoded data removed]",
      "text/plain": [
       "<Figure size 432x288 with 1 Axes>"
      ]
     },
     "metadata": {
      "needs_background": "light"
     },
     "output_type": "display_data"
    }
   ],
   "source": [
    "#Respuesta\n",
    "image_resized = np.resize(raw_data_train.iloc[0,1:].values,(28,28))\n",
    "plt.imshow(image_resized, cmap='gray', interpolation='none')\n",
    "plt.show()"
   ]
  },
  {
   "cell_type": "markdown",
   "metadata": {},
   "source": [
    "### Tarea 2\n",
    "Ahora intente imprimir las 12 primeras imágenes con las etiquetas de las imágenes en forma de cuadrícula."
   ]
  },
  {
   "cell_type": "code",
   "execution_count": 5,
   "metadata": {},
   "outputs": [
    {
     "ename": "SyntaxError",
     "evalue": "invalid syntax (<ipython-input-5-cd4798c9e1c9>, line 8)",
     "output_type": "error",
     "traceback": [
      "\u001b[1;36m  File \u001b[1;32m\"<ipython-input-5-cd4798c9e1c9>\"\u001b[1;36m, line \u001b[1;32m8\u001b[0m\n\u001b[1;33m    image_resized = #suCódigoAquí\u001b[0m\n\u001b[1;37m                    ^\u001b[0m\n\u001b[1;31mSyntaxError\u001b[0m\u001b[1;31m:\u001b[0m invalid syntax\n"
     ]
    }
   ],
   "source": [
    "etiquetas = ['T-shirt/top', 'Trouser', 'Pullover', 'Dress', 'Coat', \n",
    "               'Sandal', 'Shirt', 'Sneaker', 'Bag', 'Ankle boot']\n",
    "\n",
    "plt.figure(figsize=(12,9))\n",
    "for i in range(0,12):\n",
    "    plt.subplot(3,4,i+1)\n",
    "    #Respuesta\n",
    "    image_resized = #suCódigoAquí\n",
    "    plt.title(etiquetas[raw_data_train.iloc[i,0]])\n",
    "    plt.imshow(#suCódigoAquí)\n",
    "    \n",
    "    plt.axis('off')\n",
    "plt.show()"
   ]
  },
  {
   "cell_type": "markdown",
   "metadata": {},
   "source": [
    "## 2. Preprocesamiento de datos\n",
    "\n",
    "Nuestro objetivo es crear 6 variables de datos.\n",
    "1. Conjunto de entrenamiento (Training set) (X, Y)\n",
    "2. Conjunto de validación (Validation set) (X, Y)\n",
    "3. Conjunto de prueba (Testing set) (X, Y)\n",
    "\n",
    "¿Por qué dividimos los datos en conjuntos de entrenamiento y validación?\n",
    "\n",
    "Recuerde, en el problema de aprendizaje supervisado, alimentamos nuestro conjunto de entrenamiento (que comprende nuestras características seleccionadas y el objetivo) a nuestra función de aprendizaje. Luego, creará un modelo basado en el conjunto de entrenamiento.\n",
    "\n",
    "El conjunto de validación se usa posteriormente para probar la predicción del modelo y ver cómo funciona el modelo.\n",
    "\n",
    "Para obtener más información, visite https://towardsdatascience.com/train-test-split-and-cross-validation-in-python-80b61beca4b6.\n",
    "\n",
    "Lea la sección sobre '¿Qué es sobreajustar / desajustar un modelo?' para obtener más información sobre por qué dividimos los conjuntos de prueba y entrenamiento y sus efectos si sobreajustamos o desajustamos un modelo.\n",
    "\n",
    "Implementemos el código llamando a la función train_test_split. Vamos a dividir el conjunto de trenes en el 80% de los datos y el conjunto de validación en el 20% de los datos."
   ]
  },
  {
   "cell_type": "code",
   "execution_count": 6,
   "metadata": {},
   "outputs": [],
   "source": [
    "X = np.array(raw_data_train.iloc[:, 1:])\n",
    "y = pd.get_dummies(np.array(raw_data_train.iloc[:, 0]))\n",
    "\n",
    "X_train, X_validate, y_train, y_validate = train_test_split(X, y, test_size=0.2, random_state=12)"
   ]
  },
  {
   "cell_type": "markdown",
   "metadata": {},
   "source": [
    "Ahora que hemos extraído los datos de entrenamiento, prueba y validación, necesitamos realizar ciertos cambios en ellos. Pero antes de continuar con ellos, necesitamos definir las siguientes variables.\n",
    "\n",
    "1. im_rows <- filas de imágenes\n",
    "2. im_cols <- columnas de imagen\n",
    "3. input_shape <- una tupla que contiene la forma de entrada para el proceso de entrenamiento."
   ]
  },
  {
   "cell_type": "code",
   "execution_count": 7,
   "metadata": {},
   "outputs": [],
   "source": [
    "# Respuesta\n",
    "im_rows, im_cols = #suCódigoAquí\n",
    "input_shape = (im_rows, im_cols, 1)"
   ]
  },
  {
   "cell_type": "markdown",
   "metadata": {},
   "source": [
    "La variable input_shape puede ser un poco complicada de entender. ¿Por qué tiene la forma que tiene?"
   ]
  },
  {
   "cell_type": "markdown",
   "metadata": {},
   "source": [
    "La variable input_shape tiene la forma que tiene para resaltar las 3 dimensiones que puede tener una imagen.\n",
    "Dado que nuestras imágenes son en escala de grises, las imágenes tendrán dimensiones de\n",
    "(ancho de imagen, largo de imagen, 1)"
   ]
  },
  {
   "cell_type": "markdown",
   "metadata": {},
   "source": [
    "Para esta próxima sección, crearemos dummies para la variable 'y_test' y crear una matriz numpy para la variable 'x_test'."
   ]
  },
  {
   "cell_type": "code",
   "execution_count": 7,
   "metadata": {},
   "outputs": [],
   "source": [
    "# Test data\n",
    "X_test = np.array(raw_data_test.iloc[:, 1:])\n",
    "y_test = pd.get_dummies(np.array(raw_data_test.iloc[:, 0]))"
   ]
  },
  {
   "cell_type": "markdown",
   "metadata": {},
   "source": [
    "### Tarea\n",
    "Utilice la función de remodelación de numpy para remodelar nuestros datos para que tengan 4 dimensiones.\n",
    "1. Número de imágenes\n",
    "2. Altura de la imagen\n",
    "3. Ancho de la imagen\n",
    "4. Número de canales (1)"
   ]
  },
  {
   "cell_type": "code",
   "execution_count": 10,
   "metadata": {},
   "outputs": [],
   "source": [
    "# RESPONDER\n",
    "# entrenar y validar conjuntos\n",
    "X_train = X_train.reshape(X_train.shape[0], im_rows, im_cols, 1)\n",
    "X_validate = X_validate.reshape(#suCódigoAquí)\n",
    "X_test = X_test.reshape(#suCódigoAquí)\n"
   ]
  },
  {
   "cell_type": "markdown",
   "metadata": {},
   "source": [
    "### Normalización\n",
    "\n",
    "El siguiente tema que cubriremos es la normalización. Es algo que se usa para deshacerse de la distorsión en las imágenes y brindar un mejor resultado en el proceso de aprendizaje automático. Al buscar la normalización en la web, es fácil confundirse con la gran cantidad de términos e ideas que la rodean.\n",
    "\n",
    "Consulte este enlace para obtener más detalles https://datascience.stackexchange.com/questions/29958/when-inputting-image-rgb-values-to-mlp-should-i-divide-by-255.\n",
    "\n",
    "### Tarea\n",
    "\n",
    "Realice la normalización de las variables de datos (X_train, X_validate, X_test) dividiendo cada valor por 255. ¿Qué le deja esto?"
   ]
  },
  {
   "cell_type": "code",
   "execution_count": 12,
   "metadata": {},
   "outputs": [],
   "source": [
    "# normalización\n",
    "X_train = #suCódigoAquí\n",
    "X_validate = #suCódigoAquí\n",
    "X_test = #suCódigoAquí"
   ]
  },
  {
   "cell_type": "code",
   "execution_count": 13,
   "metadata": {},
   "outputs": [
    {
     "name": "stdout",
     "output_type": "stream",
     "text": [
      "X_train shape: (48000, 28, 28, 1)\n",
      "X_validate shape: (12000, 28, 28, 1)\n",
      "X_test shape: (10000, 28, 28, 1)\n",
      "y_train shape: (48000, 10)\n",
      "y_validate shape: (12000, 10)\n",
      "y_test shape: (10000, 10)\n"
     ]
    }
   ],
   "source": [
    "print(\"X_train shape:\", X_train.shape)\n",
    "print(\"X_validate shape:\", X_validate.shape)\n",
    "print(\"X_test shape:\", X_test.shape)\n",
    "print(\"y_train shape:\", y_train.shape)\n",
    "print(\"y_validate shape:\", y_validate.shape)\n",
    "print(\"y_test shape:\", y_test.shape)"
   ]
  },
  {
   "cell_type": "markdown",
   "metadata": {},
   "source": [
    "¡Felicitaciones! a concluido con el notebook"
   ]
  }
 ],
 "metadata": {
  "kernelspec": {
   "display_name": "Python 3",
   "language": "python",
   "name": "python3"
  },
  "language_info": {
   "codemirror_mode": {
    "name": "ipython",
    "version": 3
   },
   "file_extension": ".py",
   "mimetype": "text/x-python",
   "name": "python",
   "nbconvert_exporter": "python",
   "pygments_lexer": "ipython3",
   "version": "3.8.5"
  }
 },
 "nbformat": 4,
 "nbformat_minor": 4
}
